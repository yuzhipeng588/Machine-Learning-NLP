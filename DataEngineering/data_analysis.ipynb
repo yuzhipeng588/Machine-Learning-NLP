{
 "cells": [
  {
   "cell_type": "code",
   "execution_count": 1,
   "metadata": {
    "collapsed": true
   },
   "outputs": [],
   "source": [
    "from collections import Counter\n",
    "import numpy as np\n",
    "import csv\n",
    "train_shape=int(40000/2)\n",
    "test_shape=int(8000/2)\n",
    "\n",
    "\n",
    "# vectorize text data based on counting pos and neg words\n",
    "def count_vectorize(dic,text,length):\n",
    "    wordcount=Counter(text.split())\n",
    "    wordvector=[0]*length\n",
    "    for x in wordcount:\n",
    "        if x in dic:\n",
    "            wordvector[dic[x]-1]=wordcount[x]   \n",
    "    return wordvector "
   ]
  },
  {
   "cell_type": "code",
   "execution_count": 33,
   "metadata": {
    "collapsed": true
   },
   "outputs": [],
   "source": [
    "# main features from full text\n",
    "    # 1.read data from txt and generate raw train and test data\n",
    "i=0\n",
    "X_train_new=[]\n",
    "for line in open('/Volumes/Zhipeng/patent_dataset/paired_newclaims_dep.txt',encoding='utf-8',errors='ignore'):\n",
    "    if i%3==1 and len(line)>20:\n",
    "        X_train_new.append(line)\n",
    "    i+=1\n",
    "    \n",
    "i=0\n",
    "X_test_new=[]\n",
    "for line in open('/Volumes/Zhipeng/patent_dataset/1314paired_newclaims_dep.txt'):\n",
    "    if i%3==1 and len(line)>20:\n",
    "        X_test_new.append(line)\n",
    "    i+=1\n",
    "\n",
    "i=0\n",
    "X_train_old=[]\n",
    "for line in open('/Volumes/Zhipeng/patent_dataset/paired_oldclaims_dep.txt'):\n",
    "    if i%3==1 and len(line)>20:\n",
    "        X_train_old.append(line)\n",
    "    i+=1\n",
    "    \n",
    "i=0\n",
    "X_test_old=[]\n",
    "for line in open('/Volumes/Zhipeng/patent_dataset/1314paired_oldclaims_dep.txt'):\n",
    "    if i%3==1 and len(line)>20:\n",
    "        X_test_old.append(line)\n",
    "    i+=1\n"
   ]
  },
  {
   "cell_type": "code",
   "execution_count": 34,
   "metadata": {
    "collapsed": false
   },
   "outputs": [
    {
     "name": "stdout",
     "output_type": "stream",
     "text": [
      "143.65344234204144\n",
      "303.7711520028081\n",
      "123\n",
      "266\n"
     ]
    }
   ],
   "source": [
    "# analyze the number of words in old and new claims    \n",
    "import statistics  \n",
    "len_new=[len(line.split()) for line in X_train_new if len(line.split())<1000 and len(line.split())>10]\n",
    "len_old=[len(line.split()) for line in X_train_old if len(line.split())<1000 and len(line.split())>10]\n",
    "\n",
    "print(statistics.mean(len_old))\n",
    "print(statistics.mean(len_new))\n",
    "print(statistics.median(len_old))\n",
    "print(statistics.median(len_new))"
   ]
  },
  {
   "cell_type": "code",
   "execution_count": 35,
   "metadata": {
    "collapsed": false
   },
   "outputs": [
    {
     "data": {
      "image/png": "[encoded data removed]",
      "text/plain": [
       "<matplotlib.figure.Figure at 0x130fdbb00>"
      ]
     },
     "metadata": {},
     "output_type": "display_data"
    }
   ],
   "source": [
    "import numpy as np\n",
    "import matplotlib.mlab as mlab\n",
    "import matplotlib.pyplot as plt\n",
    "import plotly.plotly as py  # tools to communicate with Plotly's server\n",
    "\n",
    "fig = plt.figure()\n",
    "\n",
    "num_bins = 100\n",
    "# the histogram of the data\n",
    "n, bins, patches = plt.hist(len_old, num_bins, facecolor='blue', alpha=0.5)\n",
    "# add a 'best fit' line\n",
    "\n",
    "plt.xlabel('Smarts')\n",
    "plt.ylabel('Probability')\n",
    "\n",
    "# Tweak spacing to prevent clipping of ylabel\n",
    "plt.subplots_adjust(left=0.15)\n",
    "plt.show()\n",
    "#plot_url = py.plot_mpl(fig, filename='/Users/mac/Desktop/histogram-mpl-legend')"
   ]
  },
  {
   "cell_type": "code",
   "execution_count": 36,
   "metadata": {
    "collapsed": false
   },
   "outputs": [
    {
     "data": {
      "image/png": "[encoded data removed]",
      "text/plain": [
       "<matplotlib.figure.Figure at 0x1318101d0>"
      ]
     },
     "metadata": {},
     "output_type": "display_data"
    }
   ],
   "source": [
    "import numpy as np\n",
    "import matplotlib.mlab as mlab\n",
    "import matplotlib.pyplot as plt\n",
    "import plotly.plotly as py  # tools to communicate with Plotly's server\n",
    "\n",
    "fig = plt.figure()\n",
    "\n",
    "num_bins = 100\n",
    "# the histogram of the data\n",
    "n, bins, patches = plt.hist(len_new, num_bins, facecolor='blue', alpha=0.5)\n",
    "# add a 'best fit' line\n",
    "\n",
    "plt.xlabel('Smarts')\n",
    "plt.ylabel('Probability')\n",
    "\n",
    "# Tweak spacing to prevent clipping of ylabel\n",
    "plt.subplots_adjust(left=0.15)\n",
    "plt.show()\n",
    "#plot_url = py.plot_mpl(fig, filename='/Users/mac/Desktop/histogram-mpl-legend')"
   ]
  },
  {
   "cell_type": "code",
   "execution_count": 37,
   "metadata": {
    "collapsed": true
   },
   "outputs": [],
   "source": []
  }
 ],
 "metadata": {
  "anaconda-cloud": {},
  "kernelspec": {
   "display_name": "Python [conda root]",
   "language": "python",
   "name": "conda-root-py"
  },
  "language_info": {
   "codemirror_mode": {
    "name": "ipython",
    "version": 3
   },
   "file_extension": ".py",
   "mimetype": "text/x-python",
   "name": "python",
   "nbconvert_exporter": "python",
   "pygments_lexer": "ipython3",
   "version": "3.5.2"
  }
 },
 "nbformat": 4,
 "nbformat_minor": 1
}
